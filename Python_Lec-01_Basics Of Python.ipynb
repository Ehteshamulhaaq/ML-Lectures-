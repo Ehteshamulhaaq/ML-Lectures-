{
 "cells": [
  {
   "cell_type": "markdown",
   "id": "5c8c47b0",
   "metadata": {},
   "source": [
    "## Basic Of Python<br>\n",
    "In the lecture we will cover \n",
    "\n",
    "- Various Datatypes In Python\n",
    "- Variable\n",
    "- Variable Assignment \n",
    "- Print Formatting"
   ]
  },
  {
   "cell_type": "markdown",
   "id": "f2043021",
   "metadata": {},
   "source": [
    "## Various Datatypes In Python"
   ]
  },
  {
   "cell_type": "markdown",
   "id": "1cd09021",
   "metadata": {},
   "source": [
    "### Numbers"
   ]
  },
  {
   "cell_type": "code",
   "execution_count": 53,
   "id": "44992b39",
   "metadata": {},
   "outputs": [
    {
     "data": {
      "text/plain": [
       "2"
      ]
     },
     "execution_count": 53,
     "metadata": {},
     "output_type": "execute_result"
    }
   ],
   "source": [
    "1+1"
   ]
  },
  {
   "cell_type": "code",
   "execution_count": 54,
   "id": "6a3a98ed",
   "metadata": {},
   "outputs": [
    {
     "data": {
      "text/plain": [
       "20"
      ]
     },
     "execution_count": 54,
     "metadata": {},
     "output_type": "execute_result"
    }
   ],
   "source": [
    "4*5"
   ]
  },
  {
   "cell_type": "code",
   "execution_count": 55,
   "id": "8c023302",
   "metadata": {},
   "outputs": [
    {
     "data": {
      "text/plain": [
       "20"
      ]
     },
     "execution_count": 55,
     "metadata": {},
     "output_type": "execute_result"
    }
   ],
   "source": [
    "10*2"
   ]
  },
  {
   "cell_type": "code",
   "execution_count": 56,
   "id": "d213583a",
   "metadata": {},
   "outputs": [
    {
     "data": {
      "text/plain": [
       "5"
      ]
     },
     "execution_count": 56,
     "metadata": {},
     "output_type": "execute_result"
    }
   ],
   "source": [
    "10//2"
   ]
  },
  {
   "cell_type": "code",
   "execution_count": 57,
   "id": "603f767e",
   "metadata": {},
   "outputs": [
    {
     "data": {
      "text/plain": [
       "5.0"
      ]
     },
     "execution_count": 57,
     "metadata": {},
     "output_type": "execute_result"
    }
   ],
   "source": [
    "10/2"
   ]
  },
  {
   "cell_type": "code",
   "execution_count": 58,
   "id": "f829f318",
   "metadata": {},
   "outputs": [
    {
     "data": {
      "text/plain": [
       "0"
      ]
     },
     "execution_count": 58,
     "metadata": {},
     "output_type": "execute_result"
    }
   ],
   "source": [
    "4%4"
   ]
  },
  {
   "cell_type": "code",
   "execution_count": 59,
   "id": "da59a96a",
   "metadata": {},
   "outputs": [
    {
     "data": {
      "text/plain": [
       "1000"
      ]
     },
     "execution_count": 59,
     "metadata": {},
     "output_type": "execute_result"
    }
   ],
   "source": [
    "10**3"
   ]
  },
  {
   "cell_type": "code",
   "execution_count": 60,
   "id": "7748bafb",
   "metadata": {},
   "outputs": [],
   "source": [
    "# Check the data types"
   ]
  },
  {
   "cell_type": "code",
   "execution_count": 61,
   "id": "dbb79354",
   "metadata": {},
   "outputs": [
    {
     "data": {
      "text/plain": [
       "int"
      ]
     },
     "execution_count": 61,
     "metadata": {},
     "output_type": "execute_result"
    }
   ],
   "source": [
    "type(1)"
   ]
  },
  {
   "cell_type": "code",
   "execution_count": 62,
   "id": "5401d429",
   "metadata": {},
   "outputs": [
    {
     "data": {
      "text/plain": [
       "str"
      ]
     },
     "execution_count": 62,
     "metadata": {},
     "output_type": "execute_result"
    }
   ],
   "source": [
    "type('Hello')"
   ]
  },
  {
   "cell_type": "code",
   "execution_count": 63,
   "id": "1f4359a0",
   "metadata": {},
   "outputs": [
    {
     "data": {
      "text/plain": [
       "bool"
      ]
     },
     "execution_count": 63,
     "metadata": {},
     "output_type": "execute_result"
    }
   ],
   "source": [
    "type(True)"
   ]
  },
  {
   "cell_type": "markdown",
   "id": "dbaebb83",
   "metadata": {},
   "source": [
    "### String"
   ]
  },
  {
   "cell_type": "code",
   "execution_count": 64,
   "id": "184ba0df",
   "metadata": {},
   "outputs": [],
   "source": [
    "Hello = \"hi!\""
   ]
  },
  {
   "cell_type": "code",
   "execution_count": 65,
   "id": "6d54945d",
   "metadata": {},
   "outputs": [],
   "source": [
    "Hello = 'Naike'"
   ]
  },
  {
   "cell_type": "code",
   "execution_count": 66,
   "id": "382ea93b",
   "metadata": {},
   "outputs": [
    {
     "data": {
      "text/plain": [
       "str"
      ]
     },
     "execution_count": 66,
     "metadata": {},
     "output_type": "execute_result"
    }
   ],
   "source": [
    "type ('Stringa')\n"
   ]
  },
  {
   "cell_type": "markdown",
   "id": "d0ec057a",
   "metadata": {},
   "source": [
    "### Variable"
   ]
  },
  {
   "cell_type": "code",
   "execution_count": 67,
   "id": "0e92e9f7",
   "metadata": {},
   "outputs": [],
   "source": [
    "# sytax\n",
    "# variable_name = assignment\n",
    "\n",
    "a = 10\n"
   ]
  },
  {
   "cell_type": "code",
   "execution_count": 68,
   "id": "7b9cb3ec",
   "metadata": {},
   "outputs": [
    {
     "data": {
      "text/plain": [
       "int"
      ]
     },
     "execution_count": 68,
     "metadata": {},
     "output_type": "execute_result"
    }
   ],
   "source": [
    "type(a)"
   ]
  },
  {
   "cell_type": "markdown",
   "id": "20957af6",
   "metadata": {},
   "source": [
    "## Mathematical Operations with variable assignmnet "
   ]
  },
  {
   "cell_type": "code",
   "execution_count": 69,
   "id": "d4cc8df0",
   "metadata": {},
   "outputs": [],
   "source": [
    "a = 10\n",
    "b = 30"
   ]
  },
  {
   "cell_type": "code",
   "execution_count": 70,
   "id": "7e8f5c29",
   "metadata": {},
   "outputs": [
    {
     "name": "stdout",
     "output_type": "stream",
     "text": [
      "40\n",
      "-20\n",
      "0\n",
      "300\n",
      "10\n",
      "20\n"
     ]
    }
   ],
   "source": [
    "print(a+b)\n",
    "print(a-b)\n",
    "print(a//b)\n",
    "print(a*b)\n",
    "print(a%b)\n",
    "print((a+b)+(a-b))  #PEMDAS"
   ]
  },
  {
   "cell_type": "code",
   "execution_count": 71,
   "id": "e0ee891b",
   "metadata": {},
   "outputs": [],
   "source": [
    "## VARIOUS WAY  OF WRITING\n"
   ]
  },
  {
   "cell_type": "code",
   "execution_count": 72,
   "id": "045d5836",
   "metadata": {},
   "outputs": [
    {
     "name": "stdout",
     "output_type": "stream",
     "text": [
      "hELLO\n"
     ]
    }
   ],
   "source": [
    "print(\"hELLO\")"
   ]
  },
  {
   "cell_type": "code",
   "execution_count": 3,
   "id": "26f2d408",
   "metadata": {},
   "outputs": [],
   "source": [
    "First_name = 'Ehtesham'\n",
    "Last_name = 'Ul_Haq' "
   ]
  },
  {
   "cell_type": "code",
   "execution_count": 5,
   "id": "fa739a41",
   "metadata": {},
   "outputs": [
    {
     "name": "stdout",
     "output_type": "stream",
     "text": [
      "MY NAME IS Ehtesham and Ul_Haq\n"
     ]
    }
   ],
   "source": [
    "print('MY NAME IS {} and {}'.format(First_name,Last_name) )"
   ]
  },
  {
   "cell_type": "code",
   "execution_count": 75,
   "id": "1f3db40d",
   "metadata": {},
   "outputs": [
    {
     "data": {
      "text/plain": [
       "8"
      ]
     },
     "execution_count": 75,
     "metadata": {},
     "output_type": "execute_result"
    }
   ],
   "source": [
    "len('Ehtesham')"
   ]
  }
 ],
 "metadata": {
  "kernelspec": {
   "display_name": "Python 3 (ipykernel)",
   "language": "python",
   "name": "python3"
  },
  "language_info": {
   "codemirror_mode": {
    "name": "ipython",
    "version": 3
   },
   "file_extension": ".py",
   "mimetype": "text/x-python",
   "name": "python",
   "nbconvert_exporter": "python",
   "pygments_lexer": "ipython3",
   "version": "3.9.7"
  }
 },
 "nbformat": 4,
 "nbformat_minor": 5
}
