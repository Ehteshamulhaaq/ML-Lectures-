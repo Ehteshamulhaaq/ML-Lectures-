{
 "cells": [
  {
   "cell_type": "markdown",
   "id": "c7c2f64d",
   "metadata": {},
   "source": [
    "### Numpy Tutorials"
   ]
  },
  {
   "cell_type": "markdown",
   "id": "e70b2b2b",
   "metadata": {},
   "source": [
    "NumPy is a general purpose array processing package. it provides a high-performance multidimensional array object, and tools for working with these arrays. It is the fundamental package for scientific computing with Python."
   ]
  },
  {
   "cell_type": "markdown",
   "id": "dfee1029",
   "metadata": {},
   "source": [
    "### What is an array"
   ]
  },
  {
   "cell_type": "markdown",
   "id": "1d607e58",
   "metadata": {},
   "source": [
    "An array is the data structure that stores values of same data type of Python, this is the main difference between arrays and list. While python list can contain values corresponding to different data types, array in python can only contains values corresponding to same data. "
   ]
  },
  {
   "cell_type": "code",
   "execution_count": 1,
   "id": "49574115",
   "metadata": {},
   "outputs": [],
   "source": [
    "#import library\n",
    "import numpy as np"
   ]
  },
  {
   "cell_type": "code",
   "execution_count": 2,
   "id": "1bcce961",
   "metadata": {},
   "outputs": [],
   "source": [
    "my_lst=[1,2,3,4,5,6]\n",
    "arr = np.array(my_lst)"
   ]
  },
  {
   "cell_type": "code",
   "execution_count": 3,
   "id": "9e261e7a",
   "metadata": {},
   "outputs": [
    {
     "data": {
      "text/plain": [
       "numpy.ndarray"
      ]
     },
     "execution_count": 3,
     "metadata": {},
     "output_type": "execute_result"
    }
   ],
   "source": [
    "type(arr)"
   ]
  },
  {
   "cell_type": "code",
   "execution_count": 4,
   "id": "8cf2e323",
   "metadata": {},
   "outputs": [
    {
     "data": {
      "text/plain": [
       "array([1, 2, 3, 4, 5, 6])"
      ]
     },
     "execution_count": 4,
     "metadata": {},
     "output_type": "execute_result"
    }
   ],
   "source": [
    "arr"
   ]
  },
  {
   "cell_type": "code",
   "execution_count": 5,
   "id": "a9e7a95d",
   "metadata": {},
   "outputs": [
    {
     "data": {
      "text/plain": [
       "(6,)"
      ]
     },
     "execution_count": 5,
     "metadata": {},
     "output_type": "execute_result"
    }
   ],
   "source": [
    "arr.shape"
   ]
  },
  {
   "cell_type": "code",
   "execution_count": 6,
   "id": "93515f86",
   "metadata": {},
   "outputs": [],
   "source": [
    "#Multi_Dimension\n",
    "my_lst1=[2,3,4,5,6]\n",
    "my_lst2=[2,3,3,5,6]\n",
    "my_lst3=[2,3,4,5,1]\n",
    "\n",
    "arr = np.array([my_lst1,my_lst2,my_lst3])"
   ]
  },
  {
   "cell_type": "code",
   "execution_count": 7,
   "id": "af032151",
   "metadata": {},
   "outputs": [
    {
     "data": {
      "text/plain": [
       "array([[2, 3, 4, 5, 6],\n",
       "       [2, 3, 3, 5, 6],\n",
       "       [2, 3, 4, 5, 1]])"
      ]
     },
     "execution_count": 7,
     "metadata": {},
     "output_type": "execute_result"
    }
   ],
   "source": [
    "arr"
   ]
  },
  {
   "cell_type": "code",
   "execution_count": 8,
   "id": "c016cdfa",
   "metadata": {},
   "outputs": [
    {
     "data": {
      "text/plain": [
       "(3, 5)"
      ]
     },
     "execution_count": 8,
     "metadata": {},
     "output_type": "execute_result"
    }
   ],
   "source": [
    "arr.shape"
   ]
  },
  {
   "cell_type": "code",
   "execution_count": 9,
   "id": "eb2e5cf1",
   "metadata": {},
   "outputs": [
    {
     "data": {
      "text/plain": [
       "array([[2, 3, 4],\n",
       "       [5, 6, 2],\n",
       "       [3, 3, 5],\n",
       "       [6, 2, 3],\n",
       "       [4, 5, 1]])"
      ]
     },
     "execution_count": 9,
     "metadata": {},
     "output_type": "execute_result"
    }
   ],
   "source": [
    "arr.reshape(5,3)"
   ]
  },
  {
   "cell_type": "markdown",
   "id": "f0ff23d5",
   "metadata": {},
   "source": [
    "### Indexing"
   ]
  },
  {
   "cell_type": "code",
   "execution_count": 10,
   "id": "813cd104",
   "metadata": {},
   "outputs": [
    {
     "data": {
      "text/plain": [
       "array([2, 3, 4, 5, 1])"
      ]
     },
     "execution_count": 10,
     "metadata": {},
     "output_type": "execute_result"
    }
   ],
   "source": [
    "arr[2]"
   ]
  },
  {
   "cell_type": "code",
   "execution_count": 11,
   "id": "d97b6f8c",
   "metadata": {},
   "outputs": [
    {
     "data": {
      "text/plain": [
       "array([[2, 3, 4, 5, 6],\n",
       "       [2, 3, 3, 5, 6],\n",
       "       [2, 3, 4, 5, 1]])"
      ]
     },
     "execution_count": 11,
     "metadata": {},
     "output_type": "execute_result"
    }
   ],
   "source": [
    "arr"
   ]
  },
  {
   "cell_type": "code",
   "execution_count": 20,
   "id": "e768b3e2",
   "metadata": {},
   "outputs": [],
   "source": [
    "aerrr = arr[0:2,3:2]"
   ]
  },
  {
   "cell_type": "code",
   "execution_count": 22,
   "id": "655aaadb",
   "metadata": {},
   "outputs": [],
   "source": [
    "arr=np.arange(0,10,2)"
   ]
  },
  {
   "cell_type": "code",
   "execution_count": 23,
   "id": "d3a60089",
   "metadata": {},
   "outputs": [
    {
     "data": {
      "text/plain": [
       "array([0, 2, 4, 6, 8])"
      ]
     },
     "execution_count": 23,
     "metadata": {},
     "output_type": "execute_result"
    }
   ],
   "source": [
    "arr"
   ]
  },
  {
   "cell_type": "code",
   "execution_count": 24,
   "id": "477e2c88",
   "metadata": {},
   "outputs": [],
   "source": [
    "arr=np.linspace(1,8,35)\n"
   ]
  },
  {
   "cell_type": "code",
   "execution_count": 25,
   "id": "4c4ea33a",
   "metadata": {},
   "outputs": [
    {
     "data": {
      "text/plain": [
       "array([1.        , 1.20588235, 1.41176471, 1.61764706, 1.82352941,\n",
       "       2.02941176, 2.23529412, 2.44117647, 2.64705882, 2.85294118,\n",
       "       3.05882353, 3.26470588, 3.47058824, 3.67647059, 3.88235294,\n",
       "       4.08823529, 4.29411765, 4.5       , 4.70588235, 4.91176471,\n",
       "       5.11764706, 5.32352941, 5.52941176, 5.73529412, 5.94117647,\n",
       "       6.14705882, 6.35294118, 6.55882353, 6.76470588, 6.97058824,\n",
       "       7.17647059, 7.38235294, 7.58823529, 7.79411765, 8.        ])"
      ]
     },
     "execution_count": 25,
     "metadata": {},
     "output_type": "execute_result"
    }
   ],
   "source": [
    "arr"
   ]
  },
  {
   "cell_type": "code",
   "execution_count": 26,
   "id": "0fbc8e19",
   "metadata": {},
   "outputs": [],
   "source": [
    "arr1= arr.copy()"
   ]
  },
  {
   "cell_type": "code",
   "execution_count": 30,
   "id": "1362b189",
   "metadata": {},
   "outputs": [],
   "source": [
    "arr1[3:]=500"
   ]
  },
  {
   "cell_type": "code",
   "execution_count": 31,
   "id": "1450902b",
   "metadata": {},
   "outputs": [
    {
     "data": {
      "text/plain": [
       "array([  1.        ,   1.20588235,   1.41176471, 500.        ,\n",
       "       500.        , 500.        , 500.        , 500.        ,\n",
       "       500.        , 500.        , 500.        , 500.        ,\n",
       "       500.        , 500.        , 500.        , 500.        ,\n",
       "       500.        , 500.        , 500.        , 500.        ,\n",
       "       500.        , 500.        , 500.        , 500.        ,\n",
       "       500.        , 500.        , 500.        , 500.        ,\n",
       "       500.        , 500.        , 500.        , 500.        ,\n",
       "       500.        , 500.        , 500.        ])"
      ]
     },
     "execution_count": 31,
     "metadata": {},
     "output_type": "execute_result"
    }
   ],
   "source": [
    "arr1"
   ]
  },
  {
   "cell_type": "code",
   "execution_count": 35,
   "id": "db7bfbb6",
   "metadata": {},
   "outputs": [],
   "source": [
    "#Some important EDA things\n",
    "val  =2\n",
    "we=arr1[arr1>2]"
   ]
  },
  {
   "cell_type": "code",
   "execution_count": 36,
   "id": "48f9bc51",
   "metadata": {},
   "outputs": [
    {
     "data": {
      "text/plain": [
       "array([500., 500., 500., 500., 500., 500., 500., 500., 500., 500., 500.,\n",
       "       500., 500., 500., 500., 500., 500., 500., 500., 500., 500., 500.,\n",
       "       500., 500., 500., 500., 500., 500., 500., 500., 500., 500.])"
      ]
     },
     "execution_count": 36,
     "metadata": {},
     "output_type": "execute_result"
    }
   ],
   "source": [
    "we"
   ]
  },
  {
   "cell_type": "code",
   "execution_count": 38,
   "id": "f63a5012",
   "metadata": {},
   "outputs": [
    {
     "data": {
      "text/plain": [
       "array([[0.25099939, 0.23201705, 0.01235468, 0.43121595]])"
      ]
     },
     "execution_count": 38,
     "metadata": {},
     "output_type": "execute_result"
    }
   ],
   "source": [
    "# Create array \n",
    "np.random.rand(1,4)"
   ]
  },
  {
   "cell_type": "code",
   "execution_count": 41,
   "id": "9755a7c3",
   "metadata": {},
   "outputs": [
    {
     "data": {
      "text/plain": [
       "1"
      ]
     },
     "execution_count": 41,
     "metadata": {},
     "output_type": "execute_result"
    }
   ],
   "source": [
    "np.random.randint(1,2)"
   ]
  },
  {
   "cell_type": "code",
   "execution_count": null,
   "id": "c6b02761",
   "metadata": {},
   "outputs": [],
   "source": []
  }
 ],
 "metadata": {
  "kernelspec": {
   "display_name": "Python 3 (ipykernel)",
   "language": "python",
   "name": "python3"
  },
  "language_info": {
   "codemirror_mode": {
    "name": "ipython",
    "version": 3
   },
   "file_extension": ".py",
   "mimetype": "text/x-python",
   "name": "python",
   "nbconvert_exporter": "python",
   "pygments_lexer": "ipython3",
   "version": "3.9.7"
  }
 },
 "nbformat": 4,
 "nbformat_minor": 5
}
