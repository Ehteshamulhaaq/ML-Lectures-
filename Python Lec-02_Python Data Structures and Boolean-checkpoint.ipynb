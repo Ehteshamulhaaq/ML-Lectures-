{
 "cells": [
  {
   "cell_type": "markdown",
   "id": "29fc1771",
   "metadata": {},
   "source": [
    "## Python Data Structures and Boolean  "
   ]
  },
  {
   "cell_type": "markdown",
   "id": "594502a5",
   "metadata": {},
   "source": [
    "- Boolean\n",
    "- Boolean and Logical Operators\n",
    "- List\n",
    "- Comparison Operators\n",
    "- Dictionaries\n",
    "- Tuples\n",
    "- Sets"
   ]
  },
  {
   "cell_type": "markdown",
   "id": "eb3bd9a5",
   "metadata": {},
   "source": [
    "### Boolean Variables\n",
    "The boolean data type is either True or False. In Python, boolean variables are defined by the True and False keywords"
   ]
  },
  {
   "cell_type": "markdown",
   "id": "9867a5f2",
   "metadata": {},
   "source": [
    "Note the keywords True and False must have an Upper Case first letter. Using a lowercase true returns an error"
   ]
  },
  {
   "cell_type": "markdown",
   "id": "07b8444f",
   "metadata": {},
   "source": [
    "In numerical content , when we use the argument to arithmatic operator, they behave like the integer 0 and 1. <br>\n",
    "The built-In fucntion used is to casy any value to Boolean bool()"
   ]
  },
  {
   "cell_type": "code",
   "execution_count": 1,
   "id": "54f7558c",
   "metadata": {},
   "outputs": [
    {
     "name": "stdout",
     "output_type": "stream",
     "text": [
      "True False\n"
     ]
    }
   ],
   "source": [
    "print(True, False)"
   ]
  },
  {
   "cell_type": "code",
   "execution_count": 2,
   "id": "3db46dbe",
   "metadata": {},
   "outputs": [
    {
     "data": {
      "text/plain": [
       "bool"
      ]
     },
     "execution_count": 2,
     "metadata": {},
     "output_type": "execute_result"
    }
   ],
   "source": [
    "type(True)"
   ]
  },
  {
   "cell_type": "code",
   "execution_count": 3,
   "id": "9ad6ca06",
   "metadata": {},
   "outputs": [
    {
     "data": {
      "text/plain": [
       "bool"
      ]
     },
     "execution_count": 3,
     "metadata": {},
     "output_type": "execute_result"
    }
   ],
   "source": [
    "type(False)"
   ]
  },
  {
   "cell_type": "code",
   "execution_count": 4,
   "id": "9ccf5343",
   "metadata": {},
   "outputs": [],
   "source": [
    "my_str='Ehtesham'  \n"
   ]
  },
  {
   "cell_type": "code",
   "execution_count": 5,
   "id": "8241cef7",
   "metadata": {},
   "outputs": [
    {
     "name": "stdout",
     "output_type": "stream",
     "text": [
      "True\n",
      "True\n",
      "False\n",
      "True\n",
      "False\n",
      "False\n",
      "False\n",
      "False\n",
      "False\n"
     ]
    }
   ],
   "source": [
    "print(my_str.isalnum())   #Check if all char are numbers\n",
    "print(my_str.isalpha())   #Check if all char are alphabetics\n",
    "print(my_str.isdigit())   #Check if string contains digits\n",
    "print(my_str.istitle())   #Check if string contains title words\n",
    "print(my_str.isupper())   #Check if string contains upper case\n",
    "print(my_str.islower())   #Check if string contains lower case\n",
    "print(my_str.isspace())   #Check if string contains spaces\n",
    "print(my_str.endswith('d'))   #test if string ends with d\n",
    "print(my_str.startswith('H')) #test if string starts with H\n"
   ]
  },
  {
   "cell_type": "markdown",
   "id": "401a6a5e",
   "metadata": {},
   "source": [
    "### Boolean and Logical Operators"
   ]
  },
  {
   "cell_type": "code",
   "execution_count": 6,
   "id": "e0097a42",
   "metadata": {},
   "outputs": [
    {
     "name": "stdout",
     "output_type": "stream",
     "text": [
      "False\n",
      "False\n",
      "True\n",
      "True\n"
     ]
    }
   ],
   "source": [
    "print(True and False)\n",
    "print(False and True) \n",
    "print(True or False)\n",
    "print(True or True)"
   ]
  },
  {
   "cell_type": "code",
   "execution_count": 7,
   "id": "97f3cdd4",
   "metadata": {},
   "outputs": [],
   "source": [
    "str_1 =\"Hello World\"\n",
    "str_2 = \"Welcome Back\""
   ]
  },
  {
   "cell_type": "code",
   "execution_count": 8,
   "id": "8641cf1b",
   "metadata": {},
   "outputs": [
    {
     "data": {
      "text/plain": [
       "False"
      ]
     },
     "execution_count": 8,
     "metadata": {},
     "output_type": "execute_result"
    }
   ],
   "source": [
    "str_1.isalnum() or str_2.isalpha()"
   ]
  },
  {
   "cell_type": "code",
   "execution_count": 9,
   "id": "c43ba449",
   "metadata": {},
   "outputs": [
    {
     "data": {
      "text/plain": [
       "False"
      ]
     },
     "execution_count": 9,
     "metadata": {},
     "output_type": "execute_result"
    }
   ],
   "source": [
    "str_1.isalnum() and str_2.isalpha()"
   ]
  },
  {
   "cell_type": "markdown",
   "id": "728be85b",
   "metadata": {},
   "source": [
    "### Lists"
   ]
  },
  {
   "cell_type": "markdown",
   "id": "e9b8b9f6",
   "metadata": {},
   "source": [
    " A list is a data structure in Python that is mutable, changeable ordered sequence of elements. Each element or value that is inside the list is called an item. Just strings are defined as character between quotes, lists are defined by having values between square brackets [ ], list() Built-in function"
   ]
  },
  {
   "cell_type": "code",
   "execution_count": 10,
   "id": "327cb8c2",
   "metadata": {},
   "outputs": [
    {
     "data": {
      "text/plain": [
       "list"
      ]
     },
     "execution_count": 10,
     "metadata": {},
     "output_type": "execute_result"
    }
   ],
   "source": [
    "type([])"
   ]
  },
  {
   "cell_type": "code",
   "execution_count": 11,
   "id": "35a84653",
   "metadata": {},
   "outputs": [],
   "source": [
    "lst_1 =list()"
   ]
  },
  {
   "cell_type": "code",
   "execution_count": 12,
   "id": "76979cde",
   "metadata": {},
   "outputs": [
    {
     "data": {
      "text/plain": [
       "list"
      ]
     },
     "execution_count": 12,
     "metadata": {},
     "output_type": "execute_result"
    }
   ],
   "source": [
    "type(lst_1)"
   ]
  },
  {
   "cell_type": "code",
   "execution_count": 13,
   "id": "f7e376e2",
   "metadata": {},
   "outputs": [],
   "source": [
    "lst = ['Maths','Urdu',100,200]"
   ]
  },
  {
   "cell_type": "code",
   "execution_count": 14,
   "id": "0a0f55d8",
   "metadata": {},
   "outputs": [
    {
     "data": {
      "text/plain": [
       "list"
      ]
     },
     "execution_count": 14,
     "metadata": {},
     "output_type": "execute_result"
    }
   ],
   "source": [
    "type(lst)"
   ]
  },
  {
   "cell_type": "markdown",
   "id": "b0c15155",
   "metadata": {},
   "source": [
    "### Append"
   ]
  },
  {
   "cell_type": "code",
   "execution_count": 15,
   "id": "f6eb8fa9",
   "metadata": {},
   "outputs": [],
   "source": [
    "#.append is used to add in list\n",
    "lst.append('Arabic')"
   ]
  },
  {
   "cell_type": "code",
   "execution_count": 16,
   "id": "7aff3383",
   "metadata": {},
   "outputs": [
    {
     "data": {
      "text/plain": [
       "['Maths', 'Urdu', 100, 200, 'Arabic']"
      ]
     },
     "execution_count": 16,
     "metadata": {},
     "output_type": "execute_result"
    }
   ],
   "source": [
    "lst"
   ]
  },
  {
   "cell_type": "code",
   "execution_count": 17,
   "id": "07e59393",
   "metadata": {},
   "outputs": [
    {
     "data": {
      "text/plain": [
       "200"
      ]
     },
     "execution_count": 17,
     "metadata": {},
     "output_type": "execute_result"
    }
   ],
   "source": [
    "# Slicing or index\n",
    "lst[3]"
   ]
  },
  {
   "cell_type": "code",
   "execution_count": 18,
   "id": "885543ca",
   "metadata": {},
   "outputs": [
    {
     "data": {
      "text/plain": [
       "['Maths', 'Urdu', 100, 200, 'Arabic']"
      ]
     },
     "execution_count": 18,
     "metadata": {},
     "output_type": "execute_result"
    }
   ],
   "source": [
    "lst[:]"
   ]
  },
  {
   "cell_type": "code",
   "execution_count": 19,
   "id": "0442368f",
   "metadata": {},
   "outputs": [],
   "source": [
    "lst.append(['John,Marry'])"
   ]
  },
  {
   "cell_type": "code",
   "execution_count": 20,
   "id": "1de6620e",
   "metadata": {},
   "outputs": [
    {
     "data": {
      "text/plain": [
       "['Maths', 'Urdu', 100, 200, 'Arabic', ['John,Marry']]"
      ]
     },
     "execution_count": 20,
     "metadata": {},
     "output_type": "execute_result"
    }
   ],
   "source": [
    "lst"
   ]
  },
  {
   "cell_type": "markdown",
   "id": "e388ebef",
   "metadata": {},
   "source": [
    "### Insert"
   ]
  },
  {
   "cell_type": "code",
   "execution_count": 21,
   "id": "04a6a0ac",
   "metadata": {},
   "outputs": [],
   "source": [
    "#Insert in a specific order\n",
    "#lst.insert(index_order,Value need to be insert)"
   ]
  },
  {
   "cell_type": "code",
   "execution_count": 22,
   "id": "9c589b49",
   "metadata": {},
   "outputs": [],
   "source": [
    "lst.insert(2,['Kite','Roger'])"
   ]
  },
  {
   "cell_type": "code",
   "execution_count": 23,
   "id": "f599ec72",
   "metadata": {},
   "outputs": [
    {
     "data": {
      "text/plain": [
       "['Maths', 'Urdu', ['Kite', 'Roger'], 100, 200, 'Arabic', ['John,Marry']]"
      ]
     },
     "execution_count": 23,
     "metadata": {},
     "output_type": "execute_result"
    }
   ],
   "source": [
    "lst"
   ]
  },
  {
   "cell_type": "markdown",
   "id": "89186dac",
   "metadata": {},
   "source": [
    "### Extend Method"
   ]
  },
  {
   "cell_type": "code",
   "execution_count": 24,
   "id": "6b988790",
   "metadata": {},
   "outputs": [],
   "source": [
    "lst = [1,2,3,4,5,6,7,8]"
   ]
  },
  {
   "cell_type": "code",
   "execution_count": 25,
   "id": "4dfbff1e",
   "metadata": {},
   "outputs": [],
   "source": [
    "lst.extend([45,67,88,99])"
   ]
  },
  {
   "cell_type": "code",
   "execution_count": 26,
   "id": "28f28f78",
   "metadata": {},
   "outputs": [
    {
     "data": {
      "text/plain": [
       "[1, 2, 3, 4, 5, 6, 7, 8, 45, 67, 88, 99]"
      ]
     },
     "execution_count": 26,
     "metadata": {},
     "output_type": "execute_result"
    }
   ],
   "source": [
    "lst"
   ]
  },
  {
   "cell_type": "markdown",
   "id": "8767fbb8",
   "metadata": {},
   "source": [
    "### Various Operation can performed In list"
   ]
  },
  {
   "cell_type": "code",
   "execution_count": 27,
   "id": "ebaf6db3",
   "metadata": {},
   "outputs": [
    {
     "name": "stdout",
     "output_type": "stream",
     "text": [
      "[1, 2, 3, 4, 5, 6, 7, 8, 45, 67, 88, 99]\n"
     ]
    },
    {
     "data": {
      "text/plain": [
       "335"
      ]
     },
     "execution_count": 27,
     "metadata": {},
     "output_type": "execute_result"
    }
   ],
   "source": [
    "print(lst)\n",
    "sum(lst)"
   ]
  },
  {
   "cell_type": "markdown",
   "id": "8b30d45d",
   "metadata": {},
   "source": [
    "### Pop Method"
   ]
  },
  {
   "cell_type": "code",
   "execution_count": 28,
   "id": "45afff52",
   "metadata": {},
   "outputs": [
    {
     "data": {
      "text/plain": [
       "[1, 2, 3, 4, 5, 6, 7, 8, 45, 67, 88, 99]"
      ]
     },
     "execution_count": 28,
     "metadata": {},
     "output_type": "execute_result"
    }
   ],
   "source": [
    "lst"
   ]
  },
  {
   "cell_type": "code",
   "execution_count": 29,
   "id": "6c87a13e",
   "metadata": {},
   "outputs": [
    {
     "data": {
      "text/plain": [
       "99"
      ]
     },
     "execution_count": 29,
     "metadata": {},
     "output_type": "execute_result"
    }
   ],
   "source": [
    "lst.pop()"
   ]
  },
  {
   "cell_type": "code",
   "execution_count": 30,
   "id": "f729ab86",
   "metadata": {},
   "outputs": [
    {
     "data": {
      "text/plain": [
       "5"
      ]
     },
     "execution_count": 30,
     "metadata": {},
     "output_type": "execute_result"
    }
   ],
   "source": [
    "lst.pop(4)"
   ]
  },
  {
   "cell_type": "code",
   "execution_count": 31,
   "id": "f0e1ad3e",
   "metadata": {},
   "outputs": [
    {
     "data": {
      "text/plain": [
       "[1, 2, 3, 4, 6, 7, 8, 45, 67, 88]"
      ]
     },
     "execution_count": 31,
     "metadata": {},
     "output_type": "execute_result"
    }
   ],
   "source": [
    "lst"
   ]
  },
  {
   "cell_type": "markdown",
   "id": "f4ee2166",
   "metadata": {},
   "source": [
    "### Count(), Calculate the total occurence of given element of list\n"
   ]
  },
  {
   "cell_type": "code",
   "execution_count": 32,
   "id": "45ce014d",
   "metadata": {},
   "outputs": [
    {
     "data": {
      "text/plain": [
       "[1, 2, 3, 4, 6, 7, 8, 45, 67, 88]"
      ]
     },
     "execution_count": 32,
     "metadata": {},
     "output_type": "execute_result"
    }
   ],
   "source": [
    "lst"
   ]
  },
  {
   "cell_type": "code",
   "execution_count": 33,
   "id": "7c8dc941",
   "metadata": {},
   "outputs": [
    {
     "data": {
      "text/plain": [
       "1"
      ]
     },
     "execution_count": 33,
     "metadata": {},
     "output_type": "execute_result"
    }
   ],
   "source": [
    "lst.count(6)"
   ]
  },
  {
   "cell_type": "code",
   "execution_count": 34,
   "id": "14525daa",
   "metadata": {},
   "outputs": [],
   "source": [
    "#len(), total length of list"
   ]
  },
  {
   "cell_type": "code",
   "execution_count": 35,
   "id": "35e1c54f",
   "metadata": {},
   "outputs": [
    {
     "data": {
      "text/plain": [
       "10"
      ]
     },
     "execution_count": 35,
     "metadata": {},
     "output_type": "execute_result"
    }
   ],
   "source": [
    "len(lst)"
   ]
  },
  {
   "cell_type": "markdown",
   "id": "cfd12ca4",
   "metadata": {},
   "source": [
    "### index(value,start,stop), returns the index of first occurence, Start and end iindex are not parameters"
   ]
  },
  {
   "cell_type": "code",
   "execution_count": 36,
   "id": "04a40881",
   "metadata": {},
   "outputs": [
    {
     "data": {
      "text/plain": [
       "[1, 2, 3, 4, 6, 7, 8, 45, 67, 88]"
      ]
     },
     "execution_count": 36,
     "metadata": {},
     "output_type": "execute_result"
    }
   ],
   "source": [
    "lst"
   ]
  },
  {
   "cell_type": "code",
   "execution_count": 37,
   "id": "3f82fd9a",
   "metadata": {},
   "outputs": [
    {
     "data": {
      "text/plain": [
       "2"
      ]
     },
     "execution_count": 37,
     "metadata": {},
     "output_type": "execute_result"
    }
   ],
   "source": [
    "lst.index(3,1,5)"
   ]
  },
  {
   "cell_type": "code",
   "execution_count": 38,
   "id": "1ca42b79",
   "metadata": {},
   "outputs": [],
   "source": [
    "#min & max "
   ]
  },
  {
   "cell_type": "code",
   "execution_count": 39,
   "id": "a57a7289",
   "metadata": {},
   "outputs": [
    {
     "name": "stdout",
     "output_type": "stream",
     "text": [
      "[1, 2, 3, 4, 6, 7, 8, 45, 67, 88]\n",
      "1\n",
      "88\n"
     ]
    }
   ],
   "source": [
    "print(lst)\n",
    "print(min(lst))\n",
    "print(max(lst))"
   ]
  },
  {
   "cell_type": "markdown",
   "id": "0a2cf358",
   "metadata": {},
   "source": [
    "### Sets"
   ]
  },
  {
   "cell_type": "markdown",
   "id": "1f38e0c3",
   "metadata": {},
   "source": [
    "A set is an unordered collection data type that is iterable, mutable and has no duplicate elements. Python's set class represents the mathematical notion of a set, This is based on datastruture known as hash table."
   ]
  },
  {
   "cell_type": "code",
   "execution_count": 58,
   "id": "030b768a",
   "metadata": {},
   "outputs": [
    {
     "name": "stdout",
     "output_type": "stream",
     "text": [
      "set()\n",
      "<class 'set'>\n"
     ]
    }
   ],
   "source": [
    "#Defining an empty set\n",
    "\n",
    "set_var = set()\n",
    "print(set_var)\n",
    "print(type(set_var))"
   ]
  },
  {
   "cell_type": "code",
   "execution_count": 59,
   "id": "0a869b52",
   "metadata": {},
   "outputs": [
    {
     "data": {
      "text/plain": [
       "(1, 2, 3, 4, 5)"
      ]
     },
     "execution_count": 59,
     "metadata": {},
     "output_type": "execute_result"
    }
   ],
   "source": [
    "set_var = (1,2,3,4,5)\n",
    "set_var"
   ]
  },
  {
   "cell_type": "code",
   "execution_count": 60,
   "id": "dd8ba963",
   "metadata": {},
   "outputs": [],
   "source": [
    "#Set does not represent indexing"
   ]
  },
  {
   "cell_type": "code",
   "execution_count": 62,
   "id": "8f591299",
   "metadata": {},
   "outputs": [],
   "source": [
    "# In-built function\n",
    "set_var = {1,2,3,4,5}\n",
    "set_var.add(\"Boi\")"
   ]
  },
  {
   "cell_type": "code",
   "execution_count": 75,
   "id": "7cd7f5e6",
   "metadata": {},
   "outputs": [
    {
     "name": "stdout",
     "output_type": "stream",
     "text": [
      "{1, 2, 3, 4, 5, 'Boi'}\n"
     ]
    }
   ],
   "source": [
    "print(set_var)"
   ]
  },
  {
   "cell_type": "code",
   "execution_count": 84,
   "id": "ce645ac0",
   "metadata": {},
   "outputs": [
    {
     "data": {
      "text/plain": [
       "{2, 44}"
      ]
     },
     "execution_count": 84,
     "metadata": {},
     "output_type": "execute_result"
    }
   ],
   "source": [
    "# Set Difference\n",
    "set1 = {1,2,3,44,4,5}\n",
    "set2 = {1,3,4,5,\"Bboi\"}\n",
    "set1.difference(set2)"
   ]
  },
  {
   "cell_type": "markdown",
   "id": "8c4520db",
   "metadata": {},
   "source": [
    "### Dictionaries"
   ]
  },
  {
   "cell_type": "markdown",
   "id": "32368b4e",
   "metadata": {},
   "source": [
    "A dictionary is a collection of unordered, changeable, and indexed. In python dictionaries are written with curly brackets,\n",
    "and theyhave keys and values. "
   ]
  },
  {
   "cell_type": "code",
   "execution_count": 91,
   "id": "316617d0",
   "metadata": {},
   "outputs": [],
   "source": [
    "dic={}"
   ]
  },
  {
   "cell_type": "code",
   "execution_count": 92,
   "id": "110d0347",
   "metadata": {},
   "outputs": [
    {
     "data": {
      "text/plain": [
       "dict"
      ]
     },
     "execution_count": 92,
     "metadata": {},
     "output_type": "execute_result"
    }
   ],
   "source": [
    "type(dic)"
   ]
  },
  {
   "cell_type": "code",
   "execution_count": 93,
   "id": "7dd66b05",
   "metadata": {},
   "outputs": [],
   "source": [
    "dict = {1,2,3,4,5}"
   ]
  },
  {
   "cell_type": "code",
   "execution_count": 94,
   "id": "af401b4a",
   "metadata": {},
   "outputs": [
    {
     "data": {
      "text/plain": [
       "set"
      ]
     },
     "execution_count": 94,
     "metadata": {},
     "output_type": "execute_result"
    }
   ],
   "source": [
    "type(dict)"
   ]
  },
  {
   "cell_type": "code",
   "execution_count": 100,
   "id": "7fb21476",
   "metadata": {},
   "outputs": [],
   "source": [
    "#Create Dictionary\n",
    "dic1 = {'Ali':'2000','Majid':\"2300\"}"
   ]
  },
  {
   "cell_type": "code",
   "execution_count": 101,
   "id": "a7027165",
   "metadata": {},
   "outputs": [
    {
     "data": {
      "text/plain": [
       "{'Ali': '2000', 'Majid': '2300'}"
      ]
     },
     "execution_count": 101,
     "metadata": {},
     "output_type": "execute_result"
    }
   ],
   "source": [
    "dic1"
   ]
  },
  {
   "cell_type": "code",
   "execution_count": 117,
   "id": "b3f3372c",
   "metadata": {},
   "outputs": [
    {
     "data": {
      "text/plain": [
       "'2300'"
      ]
     },
     "execution_count": 117,
     "metadata": {},
     "output_type": "execute_result"
    }
   ],
   "source": [
    "#Access Items In Dict\n",
    "dic1['Majid'] "
   ]
  },
  {
   "cell_type": "code",
   "execution_count": 118,
   "id": "537c69af",
   "metadata": {},
   "outputs": [
    {
     "name": "stdout",
     "output_type": "stream",
     "text": [
      "Ali\n",
      "Majid\n"
     ]
    }
   ],
   "source": [
    "#Try to apply for loop\n",
    "\n",
    "for x in dic1:\n",
    "    print(x)"
   ]
  },
  {
   "cell_type": "code",
   "execution_count": 120,
   "id": "fc6e5841",
   "metadata": {},
   "outputs": [
    {
     "name": "stdout",
     "output_type": "stream",
     "text": [
      "2000\n",
      "2300\n"
     ]
    }
   ],
   "source": [
    "#Try to apply for loop for (keys)\n",
    "\n",
    "for x in dic1.values():\n",
    "    print(x)"
   ]
  },
  {
   "cell_type": "code",
   "execution_count": 121,
   "id": "a5d4905e",
   "metadata": {},
   "outputs": [
    {
     "name": "stdout",
     "output_type": "stream",
     "text": [
      "('Ali', '2000')\n",
      "('Majid', '2300')\n"
     ]
    }
   ],
   "source": [
    "#check items in dic for keys and values\n",
    "\n",
    "for x in dic1.items():\n",
    "    print(x)"
   ]
  },
  {
   "cell_type": "code",
   "execution_count": 123,
   "id": "a9c12365",
   "metadata": {},
   "outputs": [],
   "source": [
    "#Adding Items in Dictionary\n",
    "dic1['vard']='4000'"
   ]
  },
  {
   "cell_type": "code",
   "execution_count": 126,
   "id": "d7dfd144",
   "metadata": {},
   "outputs": [
    {
     "name": "stdout",
     "output_type": "stream",
     "text": [
      "Ali\n",
      "Majid\n",
      "vard\n"
     ]
    }
   ],
   "source": [
    "for x in dic1:\n",
    "    print(x)"
   ]
  },
  {
   "cell_type": "code",
   "execution_count": 128,
   "id": "9cc7e11f",
   "metadata": {},
   "outputs": [],
   "source": [
    "dic1['Ali']='Seiko' #Replace the values or key byt this technique"
   ]
  },
  {
   "cell_type": "code",
   "execution_count": 129,
   "id": "e288bdf2",
   "metadata": {},
   "outputs": [
    {
     "data": {
      "text/plain": [
       "{'Ali': 'Seiko', 'Majid': '2300', 'vard': '4000'}"
      ]
     },
     "execution_count": 129,
     "metadata": {},
     "output_type": "execute_result"
    }
   ],
   "source": [
    "dic1"
   ]
  },
  {
   "cell_type": "markdown",
   "id": "88bbda12",
   "metadata": {},
   "source": [
    "### Nested Dictionaries"
   ]
  },
  {
   "cell_type": "code",
   "execution_count": 133,
   "id": "8942ee77",
   "metadata": {},
   "outputs": [],
   "source": [
    "car1_model = {\"BMW\":1893}\n",
    "car2_model = {\"Audi\":2009}\n",
    "car3_model = {'Ford':2022}"
   ]
  },
  {
   "cell_type": "code",
   "execution_count": 134,
   "id": "d8763c4c",
   "metadata": {},
   "outputs": [],
   "source": [
    "car_type = {\"car1\":car1_model,\"car2\":car2_model,\"car3\":car3_model,}"
   ]
  },
  {
   "cell_type": "code",
   "execution_count": 135,
   "id": "cd4a8df0",
   "metadata": {},
   "outputs": [
    {
     "name": "stdout",
     "output_type": "stream",
     "text": [
      "{'car1': {'BMW': 1893}, 'car2': {'Audi': 2009}, 'car3': {'Ford': 2022}}\n"
     ]
    }
   ],
   "source": [
    "print(car_type)\n"
   ]
  },
  {
   "cell_type": "code",
   "execution_count": 138,
   "id": "58da232e",
   "metadata": {},
   "outputs": [
    {
     "data": {
      "text/plain": [
       "{'BMW': 1893}"
      ]
     },
     "execution_count": 138,
     "metadata": {},
     "output_type": "execute_result"
    }
   ],
   "source": [
    "car_type['car1'] #access item in nest dic"
   ]
  },
  {
   "cell_type": "code",
   "execution_count": 139,
   "id": "f11dce4c",
   "metadata": {},
   "outputs": [
    {
     "data": {
      "text/plain": [
       "1893"
      ]
     },
     "execution_count": 139,
     "metadata": {},
     "output_type": "execute_result"
    }
   ],
   "source": [
    "car_type['car1']['BMW']"
   ]
  },
  {
   "cell_type": "markdown",
   "id": "f21d8e76",
   "metadata": {},
   "source": [
    "### Tuples"
   ]
  },
  {
   "cell_type": "code",
   "execution_count": 140,
   "id": "55afee24",
   "metadata": {},
   "outputs": [],
   "source": [
    "## create an empty tuples, they are not mutable"
   ]
  },
  {
   "cell_type": "code",
   "execution_count": 146,
   "id": "e44e5be0",
   "metadata": {},
   "outputs": [],
   "source": [
    "my_tup1 =('Nais','Rshi')"
   ]
  },
  {
   "cell_type": "code",
   "execution_count": 147,
   "id": "829eac28",
   "metadata": {},
   "outputs": [
    {
     "name": "stdout",
     "output_type": "stream",
     "text": [
      "('Nais', 'Rshi')\n"
     ]
    }
   ],
   "source": [
    "print(my_tup1)"
   ]
  },
  {
   "cell_type": "code",
   "execution_count": 148,
   "id": "6b6614f1",
   "metadata": {},
   "outputs": [
    {
     "data": {
      "text/plain": [
       "tuple"
      ]
     },
     "execution_count": 148,
     "metadata": {},
     "output_type": "execute_result"
    }
   ],
   "source": [
    "type(my_tup1)"
   ]
  },
  {
   "cell_type": "markdown",
   "id": "85ca70ef",
   "metadata": {},
   "source": [
    "we can replace whole tuple rather to change the element"
   ]
  },
  {
   "cell_type": "code",
   "execution_count": null,
   "id": "3e056f91",
   "metadata": {},
   "outputs": [],
   "source": []
  }
 ],
 "metadata": {
  "kernelspec": {
   "display_name": "Python 3 (ipykernel)",
   "language": "python",
   "name": "python3"
  },
  "language_info": {
   "codemirror_mode": {
    "name": "ipython",
    "version": 3
   },
   "file_extension": ".py",
   "mimetype": "text/x-python",
   "name": "python",
   "nbconvert_exporter": "python",
   "pygments_lexer": "ipython3",
   "version": "3.9.7"
  }
 },
 "nbformat": 4,
 "nbformat_minor": 5
}
